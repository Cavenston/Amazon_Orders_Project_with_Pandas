{
 "cells": [
  {
   "cell_type": "code",
   "execution_count": null,
   "metadata": {},
   "outputs": [],
   "source": [
    "#How Much Have I Spent on Amazon.com?"
   ]
  },
  {
   "cell_type": "code",
   "execution_count": 1,
   "metadata": {},
   "outputs": [],
   "source": [
    "import pandas as pd"
   ]
  },
  {
   "cell_type": "code",
   "execution_count": 102,
   "metadata": {
    "scrolled": true
   },
   "outputs": [
    {
     "data": {
      "text/html": [
       "<div>\n",
       "<style scoped>\n",
       "    .dataframe tbody tr th:only-of-type {\n",
       "        vertical-align: middle;\n",
       "    }\n",
       "\n",
       "    .dataframe tbody tr th {\n",
       "        vertical-align: top;\n",
       "    }\n",
       "\n",
       "    .dataframe thead th {\n",
       "        text-align: right;\n",
       "    }\n",
       "</style>\n",
       "<table border=\"1\" class=\"dataframe\">\n",
       "  <thead>\n",
       "    <tr style=\"text-align: right;\">\n",
       "      <th></th>\n",
       "      <th>Marketplace</th>\n",
       "      <th>Order ID</th>\n",
       "      <th>OrderDate</th>\n",
       "      <th>Currency</th>\n",
       "      <th>Price</th>\n",
       "      <th>Price Tax</th>\n",
       "      <th>Shipping Charge</th>\n",
       "      <th>Item Subtotal</th>\n",
       "      <th>Item Subtotal Tax</th>\n",
       "      <th>Total Charged</th>\n",
       "      <th>Product Condition</th>\n",
       "      <th>Quantity</th>\n",
       "      <th>Payment Instrument Type</th>\n",
       "      <th>Order Status</th>\n",
       "      <th>Shipment Status</th>\n",
       "      <th>Ship Date</th>\n",
       "      <th>Shipping Option</th>\n",
       "      <th>Shipping Address</th>\n",
       "      <th>Billing Address</th>\n",
       "      <th>Carrier Name &amp; Tracking Number</th>\n",
       "    </tr>\n",
       "  </thead>\n",
       "  <tbody>\n",
       "    <tr>\n",
       "      <th>0</th>\n",
       "      <td>Amazon.com</td>\n",
       "      <td>112-0000000-0000001</td>\n",
       "      <td>2009-07-20 16:18:00+00:00</td>\n",
       "      <td>USD</td>\n",
       "      <td>$19.99</td>\n",
       "      <td>$0.00</td>\n",
       "      <td>$3.99</td>\n",
       "      <td>$19.99</td>\n",
       "      <td>$0.00</td>\n",
       "      <td>$23.98</td>\n",
       "      <td>Used</td>\n",
       "      <td>1</td>\n",
       "      <td>Visa</td>\n",
       "      <td>Closed</td>\n",
       "      <td>Shipped</td>\n",
       "      <td>2009-07-20 16:49 UTC</td>\n",
       "      <td>Std US Dom</td>\n",
       "      <td>Jane Doe 1234 Middle of Nowhere, TX 55055-1234...</td>\n",
       "      <td>Jane Doe 1234 Middle of Nowhere, TX 55055-1234...</td>\n",
       "      <td>NaN</td>\n",
       "    </tr>\n",
       "    <tr>\n",
       "      <th>1</th>\n",
       "      <td>Amazon.com</td>\n",
       "      <td>112-0000000-0000002</td>\n",
       "      <td>2009-07-20 16:18:00+00:00</td>\n",
       "      <td>USD</td>\n",
       "      <td>$5.24</td>\n",
       "      <td>$0.00</td>\n",
       "      <td>$3.99</td>\n",
       "      <td>$5.24</td>\n",
       "      <td>$0.00</td>\n",
       "      <td>$9.23</td>\n",
       "      <td>New</td>\n",
       "      <td>1</td>\n",
       "      <td>Visa</td>\n",
       "      <td>Closed</td>\n",
       "      <td>Shipped</td>\n",
       "      <td>2009-07-20 16:50 UTC</td>\n",
       "      <td>Std US Dom</td>\n",
       "      <td>Jane Doe 1234 Middle of Nowhere, TX 55055-1234...</td>\n",
       "      <td>Jane Doe 1234 Middle of Nowhere, TX 55055-1234...</td>\n",
       "      <td>USPS()</td>\n",
       "    </tr>\n",
       "    <tr>\n",
       "      <th>2</th>\n",
       "      <td>Amazon.com</td>\n",
       "      <td>112-0000000-0000003</td>\n",
       "      <td>2009-07-20 16:18:00+00:00</td>\n",
       "      <td>USD</td>\n",
       "      <td>$1.15</td>\n",
       "      <td>$0.00</td>\n",
       "      <td>$3.99</td>\n",
       "      <td>$1.15</td>\n",
       "      <td>$0.00</td>\n",
       "      <td>$5.14</td>\n",
       "      <td>NaN</td>\n",
       "      <td>1</td>\n",
       "      <td>Visa</td>\n",
       "      <td>Closed</td>\n",
       "      <td>Shipped</td>\n",
       "      <td>2009-07-20 16:49 UTC</td>\n",
       "      <td>Std US Dom</td>\n",
       "      <td>Jane Doe 1234 Middle of Nowhere, TX 55055-1234...</td>\n",
       "      <td>Jane Doe 1234 Middle of Nowhere, TX 55055-1234...</td>\n",
       "      <td>NaN</td>\n",
       "    </tr>\n",
       "    <tr>\n",
       "      <th>3</th>\n",
       "      <td>Amazon.com</td>\n",
       "      <td>112-0000000-0000004</td>\n",
       "      <td>2009-07-20 16:18:00+00:00</td>\n",
       "      <td>USD</td>\n",
       "      <td>$5.99</td>\n",
       "      <td>$0.00</td>\n",
       "      <td>$3.99</td>\n",
       "      <td>$11.14</td>\n",
       "      <td>$0.00</td>\n",
       "      <td>$9.98</td>\n",
       "      <td>NaN</td>\n",
       "      <td>1</td>\n",
       "      <td>Visa</td>\n",
       "      <td>Closed</td>\n",
       "      <td>Shipped</td>\n",
       "      <td>2009-07-23 18:40 UTC</td>\n",
       "      <td>Std US Dom</td>\n",
       "      <td>Jane Doe 1234 Middle of Nowhere, TX 55055-1234...</td>\n",
       "      <td>Jane Doe 1234 Middle of Nowhere, TX 55055-1234...</td>\n",
       "      <td>USPS() and USPS()</td>\n",
       "    </tr>\n",
       "    <tr>\n",
       "      <th>4</th>\n",
       "      <td>Amazon.com</td>\n",
       "      <td>112-0000000-0000005</td>\n",
       "      <td>2009-07-20 16:18:00+00:00</td>\n",
       "      <td>USD</td>\n",
       "      <td>$7.89</td>\n",
       "      <td>$0.00</td>\n",
       "      <td>$3.99</td>\n",
       "      <td>$7.89</td>\n",
       "      <td>$0.00</td>\n",
       "      <td>$11.88</td>\n",
       "      <td>NaN</td>\n",
       "      <td>1</td>\n",
       "      <td>Visa</td>\n",
       "      <td>Closed</td>\n",
       "      <td>Shipped</td>\n",
       "      <td>2009-07-20 16:52 UTC</td>\n",
       "      <td>Std US Dom</td>\n",
       "      <td>Jane Doe 1234 Middle of Nowhere, TX 55055-1234...</td>\n",
       "      <td>Jane Doe 1234 Middle of Nowhere, TX 55055-1234...</td>\n",
       "      <td>NaN</td>\n",
       "    </tr>\n",
       "  </tbody>\n",
       "</table>\n",
       "</div>"
      ],
      "text/plain": [
       "  Marketplace             Order ID                 OrderDate Currency   Price  \\\n",
       "0  Amazon.com  112-0000000-0000001 2009-07-20 16:18:00+00:00      USD  $19.99   \n",
       "1  Amazon.com  112-0000000-0000002 2009-07-20 16:18:00+00:00      USD   $5.24   \n",
       "2  Amazon.com  112-0000000-0000003 2009-07-20 16:18:00+00:00      USD   $1.15   \n",
       "3  Amazon.com  112-0000000-0000004 2009-07-20 16:18:00+00:00      USD   $5.99   \n",
       "4  Amazon.com  112-0000000-0000005 2009-07-20 16:18:00+00:00      USD   $7.89   \n",
       "\n",
       "  Price Tax Shipping Charge Item Subtotal Item Subtotal Tax Total Charged  \\\n",
       "0     $0.00           $3.99        $19.99             $0.00        $23.98   \n",
       "1     $0.00           $3.99         $5.24             $0.00         $9.23   \n",
       "2     $0.00           $3.99         $1.15             $0.00         $5.14   \n",
       "3     $0.00           $3.99        $11.14             $0.00         $9.98   \n",
       "4     $0.00           $3.99         $7.89             $0.00        $11.88   \n",
       "\n",
       "  Product Condition  Quantity Payment Instrument Type Order Status  \\\n",
       "0              Used         1                    Visa       Closed   \n",
       "1               New         1                    Visa       Closed   \n",
       "2               NaN         1                    Visa       Closed   \n",
       "3               NaN         1                    Visa       Closed   \n",
       "4               NaN         1                    Visa       Closed   \n",
       "\n",
       "  Shipment Status             Ship Date Shipping Option  \\\n",
       "0         Shipped  2009-07-20 16:49 UTC      Std US Dom   \n",
       "1         Shipped  2009-07-20 16:50 UTC      Std US Dom   \n",
       "2         Shipped  2009-07-20 16:49 UTC      Std US Dom   \n",
       "3         Shipped  2009-07-23 18:40 UTC      Std US Dom   \n",
       "4         Shipped  2009-07-20 16:52 UTC      Std US Dom   \n",
       "\n",
       "                                    Shipping Address  \\\n",
       "0  Jane Doe 1234 Middle of Nowhere, TX 55055-1234...   \n",
       "1  Jane Doe 1234 Middle of Nowhere, TX 55055-1234...   \n",
       "2  Jane Doe 1234 Middle of Nowhere, TX 55055-1234...   \n",
       "3  Jane Doe 1234 Middle of Nowhere, TX 55055-1234...   \n",
       "4  Jane Doe 1234 Middle of Nowhere, TX 55055-1234...   \n",
       "\n",
       "                                     Billing Address  \\\n",
       "0  Jane Doe 1234 Middle of Nowhere, TX 55055-1234...   \n",
       "1  Jane Doe 1234 Middle of Nowhere, TX 55055-1234...   \n",
       "2  Jane Doe 1234 Middle of Nowhere, TX 55055-1234...   \n",
       "3  Jane Doe 1234 Middle of Nowhere, TX 55055-1234...   \n",
       "4  Jane Doe 1234 Middle of Nowhere, TX 55055-1234...   \n",
       "\n",
       "  Carrier Name & Tracking Number  \n",
       "0                            NaN  \n",
       "1                         USPS()  \n",
       "2                            NaN  \n",
       "3              USPS() and USPS()  \n",
       "4                            NaN  "
      ]
     },
     "execution_count": 102,
     "metadata": {},
     "output_type": "execute_result"
    }
   ],
   "source": [
    "# pd tells Python to use pandas to do this operation\n",
    "# .read_csv() tells pandas to read a csv file and store it as a DataFrame\n",
    "# The 'file_name.csv' part inside the parentheses tells pandas to read a csv file with that filename in that folder.\n",
    "# parse_dates and infer_datetime_format as True preps OrderDate format for later splitting.\n",
    "ao=pd.read_csv(\"D:/Python/amazon_orders.csv\", parse_dates=['OrderDate'], infer_datetime_format=True)\n",
    "# call .head() to look at the first five rows of data in dataframe\n",
    "ao.head()"
   ]
  },
  {
   "cell_type": "code",
   "execution_count": 103,
   "metadata": {},
   "outputs": [
    {
     "data": {
      "text/plain": [
       "(175, 20)"
      ]
     },
     "execution_count": 103,
     "metadata": {},
     "output_type": "execute_result"
    }
   ],
   "source": [
    "#Dataframe dimensions; rows and columns\n",
    "ao.shape"
   ]
  },
  {
   "cell_type": "code",
   "execution_count": 104,
   "metadata": {},
   "outputs": [
    {
     "data": {
      "text/html": [
       "<div>\n",
       "<style scoped>\n",
       "    .dataframe tbody tr th:only-of-type {\n",
       "        vertical-align: middle;\n",
       "    }\n",
       "\n",
       "    .dataframe tbody tr th {\n",
       "        vertical-align: top;\n",
       "    }\n",
       "\n",
       "    .dataframe thead th {\n",
       "        text-align: right;\n",
       "    }\n",
       "</style>\n",
       "<table border=\"1\" class=\"dataframe\">\n",
       "  <thead>\n",
       "    <tr style=\"text-align: right;\">\n",
       "      <th></th>\n",
       "      <th>Marketplace</th>\n",
       "      <th>Order ID</th>\n",
       "      <th>OrderDate</th>\n",
       "      <th>Currency</th>\n",
       "      <th>Price</th>\n",
       "      <th>Price Tax</th>\n",
       "      <th>Shipping Charge</th>\n",
       "      <th>Item Subtotal</th>\n",
       "      <th>Item Subtotal Tax</th>\n",
       "      <th>Total Charged</th>\n",
       "      <th>Product Condition</th>\n",
       "      <th>Quantity</th>\n",
       "      <th>Payment Instrument Type</th>\n",
       "      <th>Order Status</th>\n",
       "      <th>Shipment Status</th>\n",
       "      <th>Ship Date</th>\n",
       "      <th>Shipping Option</th>\n",
       "      <th>Shipping Address</th>\n",
       "      <th>Billing Address</th>\n",
       "      <th>Carrier Name &amp; Tracking Number</th>\n",
       "    </tr>\n",
       "  </thead>\n",
       "  <tbody>\n",
       "    <tr>\n",
       "      <th>0</th>\n",
       "      <td>Amazon.com</td>\n",
       "      <td>112-0000000-0000001</td>\n",
       "      <td>2009-07-20 16:18:00+00:00</td>\n",
       "      <td>USD</td>\n",
       "      <td>$19.99</td>\n",
       "      <td>$0.00</td>\n",
       "      <td>$3.99</td>\n",
       "      <td>$19.99</td>\n",
       "      <td>$0.00</td>\n",
       "      <td>$23.98</td>\n",
       "      <td>Used</td>\n",
       "      <td>1</td>\n",
       "      <td>Visa</td>\n",
       "      <td>Closed</td>\n",
       "      <td>Shipped</td>\n",
       "      <td>2009-07-20 16:49 UTC</td>\n",
       "      <td>Std US Dom</td>\n",
       "      <td>Jane Doe 1234 Middle of Nowhere, TX 55055-1234...</td>\n",
       "      <td>Jane Doe 1234 Middle of Nowhere, TX 55055-1234...</td>\n",
       "      <td>0</td>\n",
       "    </tr>\n",
       "    <tr>\n",
       "      <th>1</th>\n",
       "      <td>Amazon.com</td>\n",
       "      <td>112-0000000-0000002</td>\n",
       "      <td>2009-07-20 16:18:00+00:00</td>\n",
       "      <td>USD</td>\n",
       "      <td>$5.24</td>\n",
       "      <td>$0.00</td>\n",
       "      <td>$3.99</td>\n",
       "      <td>$5.24</td>\n",
       "      <td>$0.00</td>\n",
       "      <td>$9.23</td>\n",
       "      <td>New</td>\n",
       "      <td>1</td>\n",
       "      <td>Visa</td>\n",
       "      <td>Closed</td>\n",
       "      <td>Shipped</td>\n",
       "      <td>2009-07-20 16:50 UTC</td>\n",
       "      <td>Std US Dom</td>\n",
       "      <td>Jane Doe 1234 Middle of Nowhere, TX 55055-1234...</td>\n",
       "      <td>Jane Doe 1234 Middle of Nowhere, TX 55055-1234...</td>\n",
       "      <td>USPS()</td>\n",
       "    </tr>\n",
       "    <tr>\n",
       "      <th>2</th>\n",
       "      <td>Amazon.com</td>\n",
       "      <td>112-0000000-0000003</td>\n",
       "      <td>2009-07-20 16:18:00+00:00</td>\n",
       "      <td>USD</td>\n",
       "      <td>$1.15</td>\n",
       "      <td>$0.00</td>\n",
       "      <td>$3.99</td>\n",
       "      <td>$1.15</td>\n",
       "      <td>$0.00</td>\n",
       "      <td>$5.14</td>\n",
       "      <td>0</td>\n",
       "      <td>1</td>\n",
       "      <td>Visa</td>\n",
       "      <td>Closed</td>\n",
       "      <td>Shipped</td>\n",
       "      <td>2009-07-20 16:49 UTC</td>\n",
       "      <td>Std US Dom</td>\n",
       "      <td>Jane Doe 1234 Middle of Nowhere, TX 55055-1234...</td>\n",
       "      <td>Jane Doe 1234 Middle of Nowhere, TX 55055-1234...</td>\n",
       "      <td>0</td>\n",
       "    </tr>\n",
       "    <tr>\n",
       "      <th>3</th>\n",
       "      <td>Amazon.com</td>\n",
       "      <td>112-0000000-0000004</td>\n",
       "      <td>2009-07-20 16:18:00+00:00</td>\n",
       "      <td>USD</td>\n",
       "      <td>$5.99</td>\n",
       "      <td>$0.00</td>\n",
       "      <td>$3.99</td>\n",
       "      <td>$11.14</td>\n",
       "      <td>$0.00</td>\n",
       "      <td>$9.98</td>\n",
       "      <td>0</td>\n",
       "      <td>1</td>\n",
       "      <td>Visa</td>\n",
       "      <td>Closed</td>\n",
       "      <td>Shipped</td>\n",
       "      <td>2009-07-23 18:40 UTC</td>\n",
       "      <td>Std US Dom</td>\n",
       "      <td>Jane Doe 1234 Middle of Nowhere, TX 55055-1234...</td>\n",
       "      <td>Jane Doe 1234 Middle of Nowhere, TX 55055-1234...</td>\n",
       "      <td>USPS() and USPS()</td>\n",
       "    </tr>\n",
       "    <tr>\n",
       "      <th>4</th>\n",
       "      <td>Amazon.com</td>\n",
       "      <td>112-0000000-0000005</td>\n",
       "      <td>2009-07-20 16:18:00+00:00</td>\n",
       "      <td>USD</td>\n",
       "      <td>$7.89</td>\n",
       "      <td>$0.00</td>\n",
       "      <td>$3.99</td>\n",
       "      <td>$7.89</td>\n",
       "      <td>$0.00</td>\n",
       "      <td>$11.88</td>\n",
       "      <td>0</td>\n",
       "      <td>1</td>\n",
       "      <td>Visa</td>\n",
       "      <td>Closed</td>\n",
       "      <td>Shipped</td>\n",
       "      <td>2009-07-20 16:52 UTC</td>\n",
       "      <td>Std US Dom</td>\n",
       "      <td>Jane Doe 1234 Middle of Nowhere, TX 55055-1234...</td>\n",
       "      <td>Jane Doe 1234 Middle of Nowhere, TX 55055-1234...</td>\n",
       "      <td>0</td>\n",
       "    </tr>\n",
       "  </tbody>\n",
       "</table>\n",
       "</div>"
      ],
      "text/plain": [
       "  Marketplace             Order ID                 OrderDate Currency   Price  \\\n",
       "0  Amazon.com  112-0000000-0000001 2009-07-20 16:18:00+00:00      USD  $19.99   \n",
       "1  Amazon.com  112-0000000-0000002 2009-07-20 16:18:00+00:00      USD   $5.24   \n",
       "2  Amazon.com  112-0000000-0000003 2009-07-20 16:18:00+00:00      USD   $1.15   \n",
       "3  Amazon.com  112-0000000-0000004 2009-07-20 16:18:00+00:00      USD   $5.99   \n",
       "4  Amazon.com  112-0000000-0000005 2009-07-20 16:18:00+00:00      USD   $7.89   \n",
       "\n",
       "  Price Tax Shipping Charge Item Subtotal Item Subtotal Tax Total Charged  \\\n",
       "0     $0.00           $3.99        $19.99             $0.00        $23.98   \n",
       "1     $0.00           $3.99         $5.24             $0.00         $9.23   \n",
       "2     $0.00           $3.99         $1.15             $0.00         $5.14   \n",
       "3     $0.00           $3.99        $11.14             $0.00         $9.98   \n",
       "4     $0.00           $3.99         $7.89             $0.00        $11.88   \n",
       "\n",
       "  Product Condition  Quantity Payment Instrument Type Order Status  \\\n",
       "0              Used         1                    Visa       Closed   \n",
       "1               New         1                    Visa       Closed   \n",
       "2                 0         1                    Visa       Closed   \n",
       "3                 0         1                    Visa       Closed   \n",
       "4                 0         1                    Visa       Closed   \n",
       "\n",
       "  Shipment Status             Ship Date Shipping Option  \\\n",
       "0         Shipped  2009-07-20 16:49 UTC      Std US Dom   \n",
       "1         Shipped  2009-07-20 16:50 UTC      Std US Dom   \n",
       "2         Shipped  2009-07-20 16:49 UTC      Std US Dom   \n",
       "3         Shipped  2009-07-23 18:40 UTC      Std US Dom   \n",
       "4         Shipped  2009-07-20 16:52 UTC      Std US Dom   \n",
       "\n",
       "                                    Shipping Address  \\\n",
       "0  Jane Doe 1234 Middle of Nowhere, TX 55055-1234...   \n",
       "1  Jane Doe 1234 Middle of Nowhere, TX 55055-1234...   \n",
       "2  Jane Doe 1234 Middle of Nowhere, TX 55055-1234...   \n",
       "3  Jane Doe 1234 Middle of Nowhere, TX 55055-1234...   \n",
       "4  Jane Doe 1234 Middle of Nowhere, TX 55055-1234...   \n",
       "\n",
       "                                     Billing Address  \\\n",
       "0  Jane Doe 1234 Middle of Nowhere, TX 55055-1234...   \n",
       "1  Jane Doe 1234 Middle of Nowhere, TX 55055-1234...   \n",
       "2  Jane Doe 1234 Middle of Nowhere, TX 55055-1234...   \n",
       "3  Jane Doe 1234 Middle of Nowhere, TX 55055-1234...   \n",
       "4  Jane Doe 1234 Middle of Nowhere, TX 55055-1234...   \n",
       "\n",
       "  Carrier Name & Tracking Number  \n",
       "0                              0  \n",
       "1                         USPS()  \n",
       "2                              0  \n",
       "3              USPS() and USPS()  \n",
       "4                              0  "
      ]
     },
     "execution_count": 104,
     "metadata": {},
     "output_type": "execute_result"
    }
   ],
   "source": [
    "#replace NaN with 0 using panda function\n",
    "ao = ao.fillna(0)\n",
    "ao.head()"
   ]
  },
  {
   "cell_type": "code",
   "execution_count": 105,
   "metadata": {},
   "outputs": [
    {
     "data": {
      "text/html": [
       "<div>\n",
       "<style scoped>\n",
       "    .dataframe tbody tr th:only-of-type {\n",
       "        vertical-align: middle;\n",
       "    }\n",
       "\n",
       "    .dataframe tbody tr th {\n",
       "        vertical-align: top;\n",
       "    }\n",
       "\n",
       "    .dataframe thead th {\n",
       "        text-align: right;\n",
       "    }\n",
       "</style>\n",
       "<table border=\"1\" class=\"dataframe\">\n",
       "  <thead>\n",
       "    <tr style=\"text-align: right;\">\n",
       "      <th></th>\n",
       "      <th>Marketplace</th>\n",
       "      <th>Order ID</th>\n",
       "      <th>OrderDate</th>\n",
       "      <th>Currency</th>\n",
       "      <th>Price</th>\n",
       "      <th>Price Tax</th>\n",
       "      <th>Shipping Charge</th>\n",
       "      <th>Item Subtotal</th>\n",
       "      <th>Item Subtotal Tax</th>\n",
       "      <th>Total Charged</th>\n",
       "      <th>Product Condition</th>\n",
       "      <th>Quantity</th>\n",
       "      <th>Payment Instrument Type</th>\n",
       "      <th>Order Status</th>\n",
       "      <th>Shipment Status</th>\n",
       "      <th>Ship Date</th>\n",
       "      <th>Shipping Option</th>\n",
       "      <th>Shipping Address</th>\n",
       "      <th>Billing Address</th>\n",
       "      <th>Carrier Name &amp; Tracking Number</th>\n",
       "    </tr>\n",
       "  </thead>\n",
       "  <tbody>\n",
       "    <tr>\n",
       "      <th>0</th>\n",
       "      <td>Amazon.com</td>\n",
       "      <td>112-0000000-0000001</td>\n",
       "      <td>2009-07-20 16:18:00+00:00</td>\n",
       "      <td>USD</td>\n",
       "      <td>$19.99</td>\n",
       "      <td>$0.00</td>\n",
       "      <td>$3.99</td>\n",
       "      <td>$19.99</td>\n",
       "      <td>$0.00</td>\n",
       "      <td>23.98</td>\n",
       "      <td>Used</td>\n",
       "      <td>1</td>\n",
       "      <td>Visa</td>\n",
       "      <td>Closed</td>\n",
       "      <td>Shipped</td>\n",
       "      <td>2009-07-20 16:49 UTC</td>\n",
       "      <td>Std US Dom</td>\n",
       "      <td>Jane Doe 1234 Middle of Nowhere, TX 55055-1234...</td>\n",
       "      <td>Jane Doe 1234 Middle of Nowhere, TX 55055-1234...</td>\n",
       "      <td>0</td>\n",
       "    </tr>\n",
       "    <tr>\n",
       "      <th>1</th>\n",
       "      <td>Amazon.com</td>\n",
       "      <td>112-0000000-0000002</td>\n",
       "      <td>2009-07-20 16:18:00+00:00</td>\n",
       "      <td>USD</td>\n",
       "      <td>$5.24</td>\n",
       "      <td>$0.00</td>\n",
       "      <td>$3.99</td>\n",
       "      <td>$5.24</td>\n",
       "      <td>$0.00</td>\n",
       "      <td>9.23</td>\n",
       "      <td>New</td>\n",
       "      <td>1</td>\n",
       "      <td>Visa</td>\n",
       "      <td>Closed</td>\n",
       "      <td>Shipped</td>\n",
       "      <td>2009-07-20 16:50 UTC</td>\n",
       "      <td>Std US Dom</td>\n",
       "      <td>Jane Doe 1234 Middle of Nowhere, TX 55055-1234...</td>\n",
       "      <td>Jane Doe 1234 Middle of Nowhere, TX 55055-1234...</td>\n",
       "      <td>USPS()</td>\n",
       "    </tr>\n",
       "    <tr>\n",
       "      <th>2</th>\n",
       "      <td>Amazon.com</td>\n",
       "      <td>112-0000000-0000003</td>\n",
       "      <td>2009-07-20 16:18:00+00:00</td>\n",
       "      <td>USD</td>\n",
       "      <td>$1.15</td>\n",
       "      <td>$0.00</td>\n",
       "      <td>$3.99</td>\n",
       "      <td>$1.15</td>\n",
       "      <td>$0.00</td>\n",
       "      <td>5.14</td>\n",
       "      <td>0</td>\n",
       "      <td>1</td>\n",
       "      <td>Visa</td>\n",
       "      <td>Closed</td>\n",
       "      <td>Shipped</td>\n",
       "      <td>2009-07-20 16:49 UTC</td>\n",
       "      <td>Std US Dom</td>\n",
       "      <td>Jane Doe 1234 Middle of Nowhere, TX 55055-1234...</td>\n",
       "      <td>Jane Doe 1234 Middle of Nowhere, TX 55055-1234...</td>\n",
       "      <td>0</td>\n",
       "    </tr>\n",
       "    <tr>\n",
       "      <th>3</th>\n",
       "      <td>Amazon.com</td>\n",
       "      <td>112-0000000-0000004</td>\n",
       "      <td>2009-07-20 16:18:00+00:00</td>\n",
       "      <td>USD</td>\n",
       "      <td>$5.99</td>\n",
       "      <td>$0.00</td>\n",
       "      <td>$3.99</td>\n",
       "      <td>$11.14</td>\n",
       "      <td>$0.00</td>\n",
       "      <td>9.98</td>\n",
       "      <td>0</td>\n",
       "      <td>1</td>\n",
       "      <td>Visa</td>\n",
       "      <td>Closed</td>\n",
       "      <td>Shipped</td>\n",
       "      <td>2009-07-23 18:40 UTC</td>\n",
       "      <td>Std US Dom</td>\n",
       "      <td>Jane Doe 1234 Middle of Nowhere, TX 55055-1234...</td>\n",
       "      <td>Jane Doe 1234 Middle of Nowhere, TX 55055-1234...</td>\n",
       "      <td>USPS() and USPS()</td>\n",
       "    </tr>\n",
       "    <tr>\n",
       "      <th>4</th>\n",
       "      <td>Amazon.com</td>\n",
       "      <td>112-0000000-0000005</td>\n",
       "      <td>2009-07-20 16:18:00+00:00</td>\n",
       "      <td>USD</td>\n",
       "      <td>$7.89</td>\n",
       "      <td>$0.00</td>\n",
       "      <td>$3.99</td>\n",
       "      <td>$7.89</td>\n",
       "      <td>$0.00</td>\n",
       "      <td>11.88</td>\n",
       "      <td>0</td>\n",
       "      <td>1</td>\n",
       "      <td>Visa</td>\n",
       "      <td>Closed</td>\n",
       "      <td>Shipped</td>\n",
       "      <td>2009-07-20 16:52 UTC</td>\n",
       "      <td>Std US Dom</td>\n",
       "      <td>Jane Doe 1234 Middle of Nowhere, TX 55055-1234...</td>\n",
       "      <td>Jane Doe 1234 Middle of Nowhere, TX 55055-1234...</td>\n",
       "      <td>0</td>\n",
       "    </tr>\n",
       "  </tbody>\n",
       "</table>\n",
       "</div>"
      ],
      "text/plain": [
       "  Marketplace             Order ID                 OrderDate Currency   Price  \\\n",
       "0  Amazon.com  112-0000000-0000001 2009-07-20 16:18:00+00:00      USD  $19.99   \n",
       "1  Amazon.com  112-0000000-0000002 2009-07-20 16:18:00+00:00      USD   $5.24   \n",
       "2  Amazon.com  112-0000000-0000003 2009-07-20 16:18:00+00:00      USD   $1.15   \n",
       "3  Amazon.com  112-0000000-0000004 2009-07-20 16:18:00+00:00      USD   $5.99   \n",
       "4  Amazon.com  112-0000000-0000005 2009-07-20 16:18:00+00:00      USD   $7.89   \n",
       "\n",
       "  Price Tax Shipping Charge Item Subtotal Item Subtotal Tax  Total Charged  \\\n",
       "0     $0.00           $3.99        $19.99             $0.00          23.98   \n",
       "1     $0.00           $3.99         $5.24             $0.00           9.23   \n",
       "2     $0.00           $3.99         $1.15             $0.00           5.14   \n",
       "3     $0.00           $3.99        $11.14             $0.00           9.98   \n",
       "4     $0.00           $3.99         $7.89             $0.00          11.88   \n",
       "\n",
       "  Product Condition  Quantity Payment Instrument Type Order Status  \\\n",
       "0              Used         1                    Visa       Closed   \n",
       "1               New         1                    Visa       Closed   \n",
       "2                 0         1                    Visa       Closed   \n",
       "3                 0         1                    Visa       Closed   \n",
       "4                 0         1                    Visa       Closed   \n",
       "\n",
       "  Shipment Status             Ship Date Shipping Option  \\\n",
       "0         Shipped  2009-07-20 16:49 UTC      Std US Dom   \n",
       "1         Shipped  2009-07-20 16:50 UTC      Std US Dom   \n",
       "2         Shipped  2009-07-20 16:49 UTC      Std US Dom   \n",
       "3         Shipped  2009-07-23 18:40 UTC      Std US Dom   \n",
       "4         Shipped  2009-07-20 16:52 UTC      Std US Dom   \n",
       "\n",
       "                                    Shipping Address  \\\n",
       "0  Jane Doe 1234 Middle of Nowhere, TX 55055-1234...   \n",
       "1  Jane Doe 1234 Middle of Nowhere, TX 55055-1234...   \n",
       "2  Jane Doe 1234 Middle of Nowhere, TX 55055-1234...   \n",
       "3  Jane Doe 1234 Middle of Nowhere, TX 55055-1234...   \n",
       "4  Jane Doe 1234 Middle of Nowhere, TX 55055-1234...   \n",
       "\n",
       "                                     Billing Address  \\\n",
       "0  Jane Doe 1234 Middle of Nowhere, TX 55055-1234...   \n",
       "1  Jane Doe 1234 Middle of Nowhere, TX 55055-1234...   \n",
       "2  Jane Doe 1234 Middle of Nowhere, TX 55055-1234...   \n",
       "3  Jane Doe 1234 Middle of Nowhere, TX 55055-1234...   \n",
       "4  Jane Doe 1234 Middle of Nowhere, TX 55055-1234...   \n",
       "\n",
       "  Carrier Name & Tracking Number  \n",
       "0                              0  \n",
       "1                         USPS()  \n",
       "2                              0  \n",
       "3              USPS() and USPS()  \n",
       "4                              0  "
      ]
     },
     "execution_count": 105,
     "metadata": {},
     "output_type": "execute_result"
    }
   ],
   "source": [
    "#remove $ and convert from string to float\n",
    "ao[\"Total Charged\"] = ao[\"Total Charged\"].str.replace('$','').astype(float)\n",
    "ao.head()"
   ]
  },
  {
   "cell_type": "code",
   "execution_count": 106,
   "metadata": {},
   "outputs": [
    {
     "data": {
      "text/plain": [
       "6561.43"
      ]
     },
     "execution_count": 106,
     "metadata": {},
     "output_type": "execute_result"
    }
   ],
   "source": [
    "#simple statistics of 'Total Charged' aka Total Purchase Price\n",
    "ao[\"Total Charged\"].sum()"
   ]
  },
  {
   "cell_type": "code",
   "execution_count": 107,
   "metadata": {},
   "outputs": [
    {
     "data": {
      "text/plain": [
       "37.493885714285675"
      ]
     },
     "execution_count": 107,
     "metadata": {},
     "output_type": "execute_result"
    }
   ],
   "source": [
    "ao[\"Total Charged\"].mean()"
   ]
  },
  {
   "cell_type": "code",
   "execution_count": 108,
   "metadata": {},
   "outputs": [
    {
     "data": {
      "text/plain": [
       "21.64"
      ]
     },
     "execution_count": 108,
     "metadata": {},
     "output_type": "execute_result"
    }
   ],
   "source": [
    "ao[\"Total Charged\"].median()"
   ]
  },
  {
   "cell_type": "code",
   "execution_count": 109,
   "metadata": {},
   "outputs": [
    {
     "data": {
      "text/plain": [
       "269.54"
      ]
     },
     "execution_count": 109,
     "metadata": {},
     "output_type": "execute_result"
    }
   ],
   "source": [
    "ao[\"Total Charged\"].max()"
   ]
  },
  {
   "cell_type": "code",
   "execution_count": 110,
   "metadata": {},
   "outputs": [
    {
     "data": {
      "text/plain": [
       "2.7"
      ]
     },
     "execution_count": 110,
     "metadata": {},
     "output_type": "execute_result"
    }
   ],
   "source": [
    "ao[\"Total Charged\"].min()"
   ]
  },
  {
   "cell_type": "code",
   "execution_count": 111,
   "metadata": {
    "scrolled": true
   },
   "outputs": [
    {
     "data": {
      "text/html": [
       "<div>\n",
       "<style scoped>\n",
       "    .dataframe tbody tr th:only-of-type {\n",
       "        vertical-align: middle;\n",
       "    }\n",
       "\n",
       "    .dataframe tbody tr th {\n",
       "        vertical-align: top;\n",
       "    }\n",
       "\n",
       "    .dataframe thead th {\n",
       "        text-align: right;\n",
       "    }\n",
       "</style>\n",
       "<table border=\"1\" class=\"dataframe\">\n",
       "  <thead>\n",
       "    <tr style=\"text-align: right;\">\n",
       "      <th></th>\n",
       "      <th>Marketplace</th>\n",
       "      <th>Order ID</th>\n",
       "      <th>OrderDate</th>\n",
       "      <th>Currency</th>\n",
       "      <th>Price</th>\n",
       "      <th>Price Tax</th>\n",
       "      <th>Shipping Charge</th>\n",
       "      <th>Item Subtotal</th>\n",
       "      <th>Item Subtotal Tax</th>\n",
       "      <th>Total Charged</th>\n",
       "      <th>Product Condition</th>\n",
       "      <th>Quantity</th>\n",
       "      <th>Payment Instrument Type</th>\n",
       "      <th>Order Status</th>\n",
       "      <th>Shipment Status</th>\n",
       "      <th>Ship Date</th>\n",
       "      <th>Shipping Option</th>\n",
       "      <th>Shipping Address</th>\n",
       "      <th>Billing Address</th>\n",
       "      <th>Carrier Name &amp; Tracking Number</th>\n",
       "    </tr>\n",
       "  </thead>\n",
       "  <tbody>\n",
       "    <tr>\n",
       "      <th>0</th>\n",
       "      <td>Amazon.com</td>\n",
       "      <td>112-0000000-0000001</td>\n",
       "      <td>2009-07-20 16:18:00+00:00</td>\n",
       "      <td>USD</td>\n",
       "      <td>19.99</td>\n",
       "      <td>0.0</td>\n",
       "      <td>$3.99</td>\n",
       "      <td>$19.99</td>\n",
       "      <td>$0.00</td>\n",
       "      <td>23.98</td>\n",
       "      <td>Used</td>\n",
       "      <td>1</td>\n",
       "      <td>Visa</td>\n",
       "      <td>Closed</td>\n",
       "      <td>Shipped</td>\n",
       "      <td>2009-07-20 16:49 UTC</td>\n",
       "      <td>Std US Dom</td>\n",
       "      <td>Jane Doe 1234 Middle of Nowhere, TX 55055-1234...</td>\n",
       "      <td>Jane Doe 1234 Middle of Nowhere, TX 55055-1234...</td>\n",
       "      <td>0</td>\n",
       "    </tr>\n",
       "    <tr>\n",
       "      <th>1</th>\n",
       "      <td>Amazon.com</td>\n",
       "      <td>112-0000000-0000002</td>\n",
       "      <td>2009-07-20 16:18:00+00:00</td>\n",
       "      <td>USD</td>\n",
       "      <td>5.24</td>\n",
       "      <td>0.0</td>\n",
       "      <td>$3.99</td>\n",
       "      <td>$5.24</td>\n",
       "      <td>$0.00</td>\n",
       "      <td>9.23</td>\n",
       "      <td>New</td>\n",
       "      <td>1</td>\n",
       "      <td>Visa</td>\n",
       "      <td>Closed</td>\n",
       "      <td>Shipped</td>\n",
       "      <td>2009-07-20 16:50 UTC</td>\n",
       "      <td>Std US Dom</td>\n",
       "      <td>Jane Doe 1234 Middle of Nowhere, TX 55055-1234...</td>\n",
       "      <td>Jane Doe 1234 Middle of Nowhere, TX 55055-1234...</td>\n",
       "      <td>USPS()</td>\n",
       "    </tr>\n",
       "    <tr>\n",
       "      <th>2</th>\n",
       "      <td>Amazon.com</td>\n",
       "      <td>112-0000000-0000003</td>\n",
       "      <td>2009-07-20 16:18:00+00:00</td>\n",
       "      <td>USD</td>\n",
       "      <td>1.15</td>\n",
       "      <td>0.0</td>\n",
       "      <td>$3.99</td>\n",
       "      <td>$1.15</td>\n",
       "      <td>$0.00</td>\n",
       "      <td>5.14</td>\n",
       "      <td>0</td>\n",
       "      <td>1</td>\n",
       "      <td>Visa</td>\n",
       "      <td>Closed</td>\n",
       "      <td>Shipped</td>\n",
       "      <td>2009-07-20 16:49 UTC</td>\n",
       "      <td>Std US Dom</td>\n",
       "      <td>Jane Doe 1234 Middle of Nowhere, TX 55055-1234...</td>\n",
       "      <td>Jane Doe 1234 Middle of Nowhere, TX 55055-1234...</td>\n",
       "      <td>0</td>\n",
       "    </tr>\n",
       "    <tr>\n",
       "      <th>3</th>\n",
       "      <td>Amazon.com</td>\n",
       "      <td>112-0000000-0000004</td>\n",
       "      <td>2009-07-20 16:18:00+00:00</td>\n",
       "      <td>USD</td>\n",
       "      <td>5.99</td>\n",
       "      <td>0.0</td>\n",
       "      <td>$3.99</td>\n",
       "      <td>$11.14</td>\n",
       "      <td>$0.00</td>\n",
       "      <td>9.98</td>\n",
       "      <td>0</td>\n",
       "      <td>1</td>\n",
       "      <td>Visa</td>\n",
       "      <td>Closed</td>\n",
       "      <td>Shipped</td>\n",
       "      <td>2009-07-23 18:40 UTC</td>\n",
       "      <td>Std US Dom</td>\n",
       "      <td>Jane Doe 1234 Middle of Nowhere, TX 55055-1234...</td>\n",
       "      <td>Jane Doe 1234 Middle of Nowhere, TX 55055-1234...</td>\n",
       "      <td>USPS() and USPS()</td>\n",
       "    </tr>\n",
       "    <tr>\n",
       "      <th>4</th>\n",
       "      <td>Amazon.com</td>\n",
       "      <td>112-0000000-0000005</td>\n",
       "      <td>2009-07-20 16:18:00+00:00</td>\n",
       "      <td>USD</td>\n",
       "      <td>7.89</td>\n",
       "      <td>0.0</td>\n",
       "      <td>$3.99</td>\n",
       "      <td>$7.89</td>\n",
       "      <td>$0.00</td>\n",
       "      <td>11.88</td>\n",
       "      <td>0</td>\n",
       "      <td>1</td>\n",
       "      <td>Visa</td>\n",
       "      <td>Closed</td>\n",
       "      <td>Shipped</td>\n",
       "      <td>2009-07-20 16:52 UTC</td>\n",
       "      <td>Std US Dom</td>\n",
       "      <td>Jane Doe 1234 Middle of Nowhere, TX 55055-1234...</td>\n",
       "      <td>Jane Doe 1234 Middle of Nowhere, TX 55055-1234...</td>\n",
       "      <td>0</td>\n",
       "    </tr>\n",
       "  </tbody>\n",
       "</table>\n",
       "</div>"
      ],
      "text/plain": [
       "  Marketplace             Order ID                 OrderDate Currency  Price  \\\n",
       "0  Amazon.com  112-0000000-0000001 2009-07-20 16:18:00+00:00      USD  19.99   \n",
       "1  Amazon.com  112-0000000-0000002 2009-07-20 16:18:00+00:00      USD   5.24   \n",
       "2  Amazon.com  112-0000000-0000003 2009-07-20 16:18:00+00:00      USD   1.15   \n",
       "3  Amazon.com  112-0000000-0000004 2009-07-20 16:18:00+00:00      USD   5.99   \n",
       "4  Amazon.com  112-0000000-0000005 2009-07-20 16:18:00+00:00      USD   7.89   \n",
       "\n",
       "   Price Tax Shipping Charge Item Subtotal Item Subtotal Tax  Total Charged  \\\n",
       "0        0.0           $3.99        $19.99             $0.00          23.98   \n",
       "1        0.0           $3.99         $5.24             $0.00           9.23   \n",
       "2        0.0           $3.99         $1.15             $0.00           5.14   \n",
       "3        0.0           $3.99        $11.14             $0.00           9.98   \n",
       "4        0.0           $3.99         $7.89             $0.00          11.88   \n",
       "\n",
       "  Product Condition  Quantity Payment Instrument Type Order Status  \\\n",
       "0              Used         1                    Visa       Closed   \n",
       "1               New         1                    Visa       Closed   \n",
       "2                 0         1                    Visa       Closed   \n",
       "3                 0         1                    Visa       Closed   \n",
       "4                 0         1                    Visa       Closed   \n",
       "\n",
       "  Shipment Status             Ship Date Shipping Option  \\\n",
       "0         Shipped  2009-07-20 16:49 UTC      Std US Dom   \n",
       "1         Shipped  2009-07-20 16:50 UTC      Std US Dom   \n",
       "2         Shipped  2009-07-20 16:49 UTC      Std US Dom   \n",
       "3         Shipped  2009-07-23 18:40 UTC      Std US Dom   \n",
       "4         Shipped  2009-07-20 16:52 UTC      Std US Dom   \n",
       "\n",
       "                                    Shipping Address  \\\n",
       "0  Jane Doe 1234 Middle of Nowhere, TX 55055-1234...   \n",
       "1  Jane Doe 1234 Middle of Nowhere, TX 55055-1234...   \n",
       "2  Jane Doe 1234 Middle of Nowhere, TX 55055-1234...   \n",
       "3  Jane Doe 1234 Middle of Nowhere, TX 55055-1234...   \n",
       "4  Jane Doe 1234 Middle of Nowhere, TX 55055-1234...   \n",
       "\n",
       "                                     Billing Address  \\\n",
       "0  Jane Doe 1234 Middle of Nowhere, TX 55055-1234...   \n",
       "1  Jane Doe 1234 Middle of Nowhere, TX 55055-1234...   \n",
       "2  Jane Doe 1234 Middle of Nowhere, TX 55055-1234...   \n",
       "3  Jane Doe 1234 Middle of Nowhere, TX 55055-1234...   \n",
       "4  Jane Doe 1234 Middle of Nowhere, TX 55055-1234...   \n",
       "\n",
       "  Carrier Name & Tracking Number  \n",
       "0                              0  \n",
       "1                         USPS()  \n",
       "2                              0  \n",
       "3              USPS() and USPS()  \n",
       "4                              0  "
      ]
     },
     "execution_count": 111,
     "metadata": {},
     "output_type": "execute_result"
    }
   ],
   "source": [
    "#Can't forget sales tax and listed price\n",
    "ao[\"Price Tax\"] = ao[\"Price Tax\"].str.replace('$','').astype(float)\n",
    "ao[\"Price\"] = ao[\"Price\"].str.replace('$','').astype(float)\n",
    "ao.head()"
   ]
  },
  {
   "cell_type": "code",
   "execution_count": 112,
   "metadata": {},
   "outputs": [
    {
     "data": {
      "text/plain": [
       "201.34"
      ]
     },
     "execution_count": 112,
     "metadata": {},
     "output_type": "execute_result"
    }
   ],
   "source": [
    "#Total paid in tax\n",
    "ao[\"Price Tax\"].sum()"
   ]
  },
  {
   "cell_type": "code",
   "execution_count": 113,
   "metadata": {},
   "outputs": [
    {
     "data": {
      "text/plain": [
       "1.0"
      ]
     },
     "execution_count": 113,
     "metadata": {},
     "output_type": "execute_result"
    }
   ],
   "source": [
    "#overall tax rate \n",
    "ao[\"Price Tax\"].sum()/ao[\"Price Tax\"].sum()"
   ]
  },
  {
   "cell_type": "code",
   "execution_count": 114,
   "metadata": {},
   "outputs": [
    {
     "data": {
      "text/html": [
       "<div>\n",
       "<style scoped>\n",
       "    .dataframe tbody tr th:only-of-type {\n",
       "        vertical-align: middle;\n",
       "    }\n",
       "\n",
       "    .dataframe tbody tr th {\n",
       "        vertical-align: top;\n",
       "    }\n",
       "\n",
       "    .dataframe thead th {\n",
       "        text-align: right;\n",
       "    }\n",
       "</style>\n",
       "<table border=\"1\" class=\"dataframe\">\n",
       "  <thead>\n",
       "    <tr style=\"text-align: right;\">\n",
       "      <th></th>\n",
       "      <th>Marketplace</th>\n",
       "      <th>Order ID</th>\n",
       "      <th>OrderDate</th>\n",
       "      <th>Currency</th>\n",
       "      <th>Price</th>\n",
       "      <th>Price Tax</th>\n",
       "      <th>Shipping Charge</th>\n",
       "      <th>Item Subtotal</th>\n",
       "      <th>Item Subtotal Tax</th>\n",
       "      <th>Total Charged</th>\n",
       "      <th>...</th>\n",
       "      <th>Ship Date</th>\n",
       "      <th>Shipping Option</th>\n",
       "      <th>Shipping Address</th>\n",
       "      <th>Billing Address</th>\n",
       "      <th>Carrier Name &amp; Tracking Number</th>\n",
       "      <th>Date</th>\n",
       "      <th>Time</th>\n",
       "      <th>Year</th>\n",
       "      <th>Month</th>\n",
       "      <th>Day</th>\n",
       "    </tr>\n",
       "  </thead>\n",
       "  <tbody>\n",
       "    <tr>\n",
       "      <th>0</th>\n",
       "      <td>Amazon.com</td>\n",
       "      <td>112-0000000-0000001</td>\n",
       "      <td>2009-07-20 16:18:00+00:00</td>\n",
       "      <td>USD</td>\n",
       "      <td>19.99</td>\n",
       "      <td>0.0</td>\n",
       "      <td>$3.99</td>\n",
       "      <td>$19.99</td>\n",
       "      <td>$0.00</td>\n",
       "      <td>23.98</td>\n",
       "      <td>...</td>\n",
       "      <td>2009-07-20 16:49 UTC</td>\n",
       "      <td>Std US Dom</td>\n",
       "      <td>Jane Doe 1234 Middle of Nowhere, TX 55055-1234...</td>\n",
       "      <td>Jane Doe 1234 Middle of Nowhere, TX 55055-1234...</td>\n",
       "      <td>0</td>\n",
       "      <td>2009-07-20</td>\n",
       "      <td>16:18:00</td>\n",
       "      <td>2009</td>\n",
       "      <td>7</td>\n",
       "      <td>20</td>\n",
       "    </tr>\n",
       "  </tbody>\n",
       "</table>\n",
       "<p>1 rows × 25 columns</p>\n",
       "</div>"
      ],
      "text/plain": [
       "  Marketplace             Order ID                 OrderDate Currency  Price  \\\n",
       "0  Amazon.com  112-0000000-0000001 2009-07-20 16:18:00+00:00      USD  19.99   \n",
       "\n",
       "   Price Tax Shipping Charge Item Subtotal Item Subtotal Tax  Total Charged  \\\n",
       "0        0.0           $3.99        $19.99             $0.00          23.98   \n",
       "\n",
       "   ...             Ship Date  Shipping Option  \\\n",
       "0  ...  2009-07-20 16:49 UTC       Std US Dom   \n",
       "\n",
       "                                    Shipping Address  \\\n",
       "0  Jane Doe 1234 Middle of Nowhere, TX 55055-1234...   \n",
       "\n",
       "                                     Billing Address  \\\n",
       "0  Jane Doe 1234 Middle of Nowhere, TX 55055-1234...   \n",
       "\n",
       "  Carrier Name & Tracking Number        Date      Time  Year Month Day  \n",
       "0                              0  2009-07-20  16:18:00  2009     7  20  \n",
       "\n",
       "[1 rows x 25 columns]"
      ]
     },
     "execution_count": 114,
     "metadata": {},
     "output_type": "execute_result"
    }
   ],
   "source": [
    "#convert 'OrderDate' to a datetime data type, then extract date,time, and  date format to new columns \n",
    "ao['OrderDate'] = pd.to_datetime(ao['OrderDate'], format = '%Y-%m-%d')\n",
    "ao['Date'] = ao.OrderDate.dt.date\n",
    "ao['Time'] = ao.OrderDate.dt.time\n",
    "ao['Year'] = ao.OrderDate.dt.year\n",
    "ao['Month'] = ao.OrderDate.dt.month\n",
    "ao['Day'] = ao.OrderDate.dt.day\n",
    "#I just want to see one row to make sure changes happened\n",
    "ao.head(1)"
   ]
  },
  {
   "cell_type": "code",
   "execution_count": 115,
   "metadata": {},
   "outputs": [],
   "source": [
    "#enable matplotlib to display charts\n",
    "%matplotlib inline"
   ]
  },
  {
   "cell_type": "code",
   "execution_count": 116,
   "metadata": {},
   "outputs": [
    {
     "data": {
      "text/plain": [
       "<AxesSubplot:xlabel='Date'>"
      ]
     },
     "execution_count": 116,
     "metadata": {},
     "output_type": "execute_result"
    },
    {
     "data": {
      "image/png": "[encoded data removed]",
      "text/plain": [
       "<Figure size 1440x720 with 1 Axes>"
      ]
     },
     "metadata": {
      "needs_background": "light"
     },
     "output_type": "display_data"
    }
   ],
   "source": [
    "#desired X and Y axis columns, rotate the x-axis labels, and define chart size (heigh and weight)\n",
    "ao.plot.bar(x='Date', y=['Price','Price Tax'], rot=90, figsize=(20,10))"
   ]
  },
  {
   "cell_type": "code",
   "execution_count": 117,
   "metadata": {},
   "outputs": [
    {
     "data": {
      "text/plain": [
       "Date\n",
       "2009-07-20    69.35\n",
       "2009-07-30    58.27\n",
       "2009-08-31    16.99\n",
       "2009-09-01    34.01\n",
       "2009-12-26    17.99\n",
       "Name: Total Charged, dtype: float64"
      ]
     },
     "execution_count": 117,
     "metadata": {},
     "output_type": "execute_result"
    }
   ],
   "source": [
    "#group by the order date\n",
    "#take sum of the 'Total Charged' column in that group and then make that our new 'Total Charged' column\n",
    "#assign new pandas Series to a new variable, daily_orders.\n",
    "daily_orders = ao.groupby('Date').sum()[\"Total Charged\"]\n",
    "daily_orders.head()"
   ]
  },
  {
   "cell_type": "code",
   "execution_count": 118,
   "metadata": {
    "scrolled": true
   },
   "outputs": [
    {
     "data": {
      "text/plain": [
       "<AxesSubplot:xlabel='Date'>"
      ]
     },
     "execution_count": 118,
     "metadata": {},
     "output_type": "execute_result"
    },
    {
     "data": {
      "image/png": "[encoded data removed]",
      "text/plain": [
       "<Figure size 1440x720 with 1 Axes>"
      ]
     },
     "metadata": {
      "needs_background": "light"
     },
     "output_type": "display_data"
    }
   ],
   "source": [
    "#chart that series\n",
    "daily_orders.plot.bar(figsize=(20,10))"
   ]
  },
  {
   "cell_type": "code",
   "execution_count": 119,
   "metadata": {},
   "outputs": [
    {
     "data": {
      "text/plain": [
       "Year\n",
       "2009    196.61\n",
       "2010    798.62\n",
       "2011    487.03\n",
       "2012    419.16\n",
       "2013    293.18\n",
       "Name: Total Charged, dtype: float64"
      ]
     },
     "execution_count": 119,
     "metadata": {},
     "output_type": "execute_result"
    }
   ],
   "source": [
    "#Chart is still too hard to read.  Repeat grouping and sum by year\n",
    "yearly_orders = ao.groupby('Year').sum()[\"Total Charged\"]\n",
    "yearly_orders.head()"
   ]
  },
  {
   "cell_type": "code",
   "execution_count": 97,
   "metadata": {},
   "outputs": [
    {
     "data": {
      "text/plain": [
       "<AxesSubplot:xlabel='Year'>"
      ]
     },
     "execution_count": 97,
     "metadata": {},
     "output_type": "execute_result"
    },
    {
     "data": {
      "image/png": "[encoded data removed]",
      "text/plain": [
       "<Figure size 1440x720 with 1 Axes>"
      ]
     },
     "metadata": {
      "needs_background": "light"
     },
     "output_type": "display_data"
    }
   ],
   "source": [
    "#Chart sum of total spent per year.  Let's give a new color, too.\n",
    "yearly_orders.plot.bar(figsize=(20, 10), color='#61D199')"
   ]
  },
  {
   "cell_type": "code",
   "execution_count": 120,
   "metadata": {},
   "outputs": [
    {
     "data": {
      "text/plain": [
       "<AxesSubplot:title={'center':'I spent how much?!'}, xlabel='Year', ylabel='Total Paid'>"
      ]
     },
     "execution_count": 120,
     "metadata": {},
     "output_type": "execute_result"
    },
    {
     "data": {
      "image/png": "[encoded data removed]",
      "text/plain": [
       "<Figure size 1440x720 with 1 Axes>"
      ]
     },
     "metadata": {
      "needs_background": "light"
     },
     "output_type": "display_data"
    }
   ],
   "source": [
    "#Better! Let's add Y-axis label and title.\n",
    "yearly_orders.plot.bar(figsize=(20, 10), color='#61D199', ylabel='Total Paid', title='I spent how much?!')"
   ]
  }
 ],
 "metadata": {
  "kernelspec": {
   "display_name": "Python 3",
   "language": "python",
   "name": "python3"
  },
  "language_info": {
   "codemirror_mode": {
    "name": "ipython",
    "version": 3
   },
   "file_extension": ".py",
   "mimetype": "text/x-python",
   "name": "python",
   "nbconvert_exporter": "python",
   "pygments_lexer": "ipython3",
   "version": "3.8.5"
  }
 },
 "nbformat": 4,
 "nbformat_minor": 4
}
